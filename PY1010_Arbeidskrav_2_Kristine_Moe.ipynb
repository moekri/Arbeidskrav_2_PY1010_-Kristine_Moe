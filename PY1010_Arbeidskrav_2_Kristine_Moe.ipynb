{
 "cells": [
  {
   "cell_type": "markdown",
   "id": "95d1a149-40e5-446d-b3ac-8804c6dfd17c",
   "metadata": {},
   "source": [
    "  ## Arbeidskrav 2 PY1010\n",
    "  ### Kristine Moe 20250117"
   ]
  },
  {
   "cell_type": "code",
   "execution_count": 2,
   "id": "c45a7e69-2234-40ae-83b8-711241b22d40",
   "metadata": {},
   "outputs": [
    {
     "name": "stdin",
     "output_type": "stream",
     "text": [
      "Hvilket år er du født? 1986\n"
     ]
    },
    {
     "name": "stdout",
     "output_type": "stream",
     "text": [
      "Du ble 38 år i løpet av 2024\n"
     ]
    }
   ],
   "source": [
    "  # Oppgave 1) Regne ut hvor gammel en person blir i 2024 vedå oppgi fødselsår\n",
    "\n",
    "alder = int(input('Hvilket år er du født?'))  # Skriv inn fødselsår i fire siffer\n",
    "aar = 2024\n",
    "hvor_gammel = aar - alder  # Regner ut alder ved å trekke årstallet fra fødselsår\n",
    "print('Du ble', hvor_gammel, 'år i løpet av 2024')"
   ]
  },
  {
   "cell_type": "code",
   "execution_count": 6,
   "id": "d90c2ec6-1631-4e45-8dc0-1d80d9d7e933",
   "metadata": {},
   "outputs": [
    {
     "name": "stdin",
     "output_type": "stream",
     "text": [
      "Skriv inn antall elever: 26\n"
     ]
    },
    {
     "name": "stdout",
     "output_type": "stream",
     "text": [
      "Man må kjøpe 7 pizzaer til 26 elever\n"
     ]
    }
   ],
   "source": [
    "  # Oppgave 2) Regne ut hvor mange hele pizzaer som skal handles inn til et oppgitt antall elever\n",
    "\n",
    "import math\n",
    "antall_elever = int(input('Skriv inn antall elever:'))\n",
    "pizza_pr_elev = 0.25  # Antar at hver elev spiser 1/4 pizza\n",
    "antall_pizzaer = (antall_elever*pizza_pr_elev)  # Beregner hvor mange pizzaer man må kjøpe\n",
    "print('Man må kjøpe', math.ceil(antall_pizzaer), 'pizzaer til', antall_elever, 'elever')  # Bruker \"math.ceil()\" for å runde opp til nærmeste heltall\n"
   ]
  },
  {
   "cell_type": "code",
   "execution_count": 8,
   "id": "77971f45-2232-4ba4-82dc-929f3d2eda2a",
   "metadata": {},
   "outputs": [
    {
     "name": "stdin",
     "output_type": "stream",
     "text": [
      "Skriv inn gradtallet: 58\n"
     ]
    },
    {
     "name": "stdout",
     "output_type": "stream",
     "text": [
      "58.0 grader er lik 1.012 radianer\n"
     ]
    }
   ],
   "source": [
    "  # Oppgave 3) Regne om fra grader til radianer\n",
    "\n",
    "import numpy as np\n",
    "\n",
    "v_grad = float(input('Skriv inn gradtallet:'))\n",
    "v_rad = v_grad*np.pi/180\n",
    "print(v_grad, 'grader er lik', round(v_rad, 3), 'radianer')  # Bruker \"round(, 3)\" for å runde av til tre desimaler\n"
   ]
  },
  {
   "cell_type": "code",
   "execution_count": 10,
   "id": "f6669e5c-3c68-461a-9956-22b142a4d39c",
   "metadata": {},
   "outputs": [
    {
     "name": "stdin",
     "output_type": "stream",
     "text": [
      "Hvilket land? England\n"
     ]
    },
    {
     "name": "stdout",
     "output_type": "stream",
     "text": [
      "London er hovedstaden i England og det er 8.982 mill. innbyggere i London\n"
     ]
    }
   ],
   "source": [
    "  # Oppgave 4) Dictionary med ulike land som nøkkel som gir info om hovedstaden i landet og antall innbyggere i mill. i hovedstaden.\n",
    "\n",
    "  # a)  Land, hovedstad og antall innbyggere i mill.\n",
    "data = {\n",
    "    'Norge': ['Oslo', 0.634],\n",
    "    'England': ['London', 8.982],\n",
    "    'Frankrike': ['Paris', 2.161],\n",
    "    'Italia': ['Roma', 2.873]}\n",
    "\n",
    "  # b)  \n",
    "land = input('Hvilket land?')\n",
    "if land in data:  # Hvis landet som skrives inn er i dictionarien blir følgende skrevet ut:\n",
    "    by = data[land][0]  # Angir 'by' i felt [0] som hovedstad\n",
    "    folk = data[land][1]  # Angir 'folk' i felt [1] som antall innbyggere\n",
    "    print(by, 'er hovedstaden i', land, 'og det er', folk, 'mill. innbyggere i', by)\n",
    "else:  # Hvis ikke landet som skrives inn er i dictionarien blir følgende skrevet ut:\n",
    "    print('Landet er ikke oppgitt')\n",
    " "
   ]
  },
  {
   "cell_type": "code",
   "execution_count": 2,
   "id": "04637081-ba82-4485-9f27-109ef563f7fc",
   "metadata": {},
   "outputs": [
    {
     "name": "stdin",
     "output_type": "stream",
     "text": [
      "Hvilket land vil du legge til i dicionarien? Tyskland\n",
      "Hva er hovedstaden i dette landet? Berlin\n",
      "Hvor mange millioner innbyggere er det i denne byen? 3.432\n"
     ]
    },
    {
     "name": "stdout",
     "output_type": "stream",
     "text": [
      "{'Norge': ['Oslo', 0.634], 'England': ['London', 8.982], 'Frankrike': ['Paris', 2.161], 'Italia': ['Roma', 2.873], 'Tyskland': ['Berlin', 3.432]}\n"
     ]
    }
   ],
   "source": [
    " # Oppgave 4 c) Legge inn et nytt land med hovedstad og antall innbyggere i byen\n",
    "data = {\n",
    "    'Norge': ['Oslo', 0.634],\n",
    "    'England': ['London', 8.982],\n",
    "    'Frankrike': ['Paris', 2.161],\n",
    "    'Italia': ['Roma', 2.873]}\n",
    "\n",
    "nytt_land = input('Hvilket land vil du legge til i dicionarien?')  # Man skriver inn et land som ikke er med i dictionarien\n",
    "by = input('Hva er hovedstaden i dette landet?')  # Man skriver inn hovedstaden i det nye landet\n",
    "folk = float(input('Hvor mange millioner innbyggere er det i denne byen?'))  # Man skriver inn antall innbyggere i hovedstaden til det nye landet\n",
    "data[nytt_land] = [by, folk]  # Registrerer 'by' i felt [0] og 'folk' i felt [1] for det nye landet\n",
    "print(data)  # Skriver ut ny utvidet/oppdatert dictionary\n"
   ]
  },
  {
   "cell_type": "code",
   "execution_count": 13,
   "id": "edbfc3b6-50ea-470c-81c8-28cdc2fa7f8d",
   "metadata": {},
   "outputs": [
    {
     "name": "stdin",
     "output_type": "stream",
     "text": [
      "Hva er verdien av a? 5.4\n",
      "Hva er verdien av b? 9.2\n"
     ]
    },
    {
     "name": "stdout",
     "output_type": "stream",
     "text": [
      "Arealet av figuren er 36.29\n",
      "Omkretsen av figuren er 36.83\n"
     ]
    }
   ],
   "source": [
    "  # Oppgave 5) Funksjon som tar a og b som inn-argumenter og som så regner ut arealet og «ytre» omkrets til en figur satt sammen av en rettvinklet trekant og en halvsirkel.\n",
    "\n",
    "import numpy as np\n",
    "\n",
    "def fun_ar_og_omkr(a, b):  # Definerer funksjonen\n",
    "    A = ((np.pi*(a/2)**(2))/2) + (a*b)/2  # Beregner arealet A ved å kombinere arealet av en halvsirkel og en trekant\n",
    "    O = (2*np.pi*(a/2)) + b + np.sqrt(a**(2) + b**(2))  # Beregner omkretsen O ved å summere halve omkretsen av en sirkel, lengden b og hypotenusen av trekanten\n",
    "    return (A, O)\n",
    "\n",
    "a = float(input('Hva er verdien av a?'))  # Skriver inn verdien av a\n",
    "b = float(input('Hva er verdien av b?'))  # Skriver inn verdien av b\n",
    "\n",
    "(areal, omkrets) = fun_ar_og_omkr(a, b)  \n",
    "\n",
    "print('Arealet av figuren er', round(areal, 2))  # Skriver ut det utregnede arealet avrundet til to desimaler\n",
    "print('Omkretsen av figuren er', round(omkrets, 2))  # Skriver ut den utegnede omkretsen avrundet til to desimaler\n"
   ]
  },
  {
   "cell_type": "code",
   "execution_count": 15,
   "id": "e2afd1b0-6448-4374-86ac-fb8c1929fb82",
   "metadata": {},
   "outputs": [
    {
     "data": {
      "text/plain": [
       "[<matplotlib.lines.Line2D at 0x125038e60>]"
      ]
     },
     "execution_count": 15,
     "metadata": {},
     "output_type": "execute_result"
    },
    {
     "data": {
      "image/png": "[encoded data removed]",
      "text/plain": [
       "<Figure size 640x480 with 1 Axes>"
      ]
     },
     "metadata": {},
     "output_type": "display_data"
    }
   ],
   "source": [
    "  # Oppgave 6) Plotte funksjonen 𝑓(𝑥) = −𝑥^2 − 5, for x på intervallet [-10,10]\n",
    "\n",
    "import numpy as np\n",
    "import matplotlib.pyplot as plt\n",
    "\n",
    "x = np.linspace(-10, 10, 200)  # Gir en array med 200 punkter jevnt fordelt på intervallet [-10,10].\n",
    "\n",
    "def f(x):\n",
    "    return -x**(2) - 5  # Definerer funksjonen av x med utargumentet −𝑥^2 − 5\n",
    "    \n",
    "plt.xlabel('x')  # Skriver teksten 'x' under x-aksen\n",
    "plt.ylabel('y')  # Skriver teksten 'y' ved siden av y-aksen\n",
    "\n",
    "plt.plot(x, f(x))"
   ]
  },
  {
   "cell_type": "code",
   "execution_count": null,
   "id": "33e5df85-eca3-4908-971a-d652933fbd9b",
   "metadata": {},
   "outputs": [],
   "source": []
  }
 ],
 "metadata": {
  "kernelspec": {
   "display_name": "Python 3 (ipykernel)",
   "language": "python",
   "name": "python3"
  },
  "language_info": {
   "codemirror_mode": {
    "name": "ipython",
    "version": 3
   },
   "file_extension": ".py",
   "mimetype": "text/x-python",
   "name": "python",
   "nbconvert_exporter": "python",
   "pygments_lexer": "ipython3",
   "version": "3.12.4"
  }
 },
 "nbformat": 4,
 "nbformat_minor": 5
}
